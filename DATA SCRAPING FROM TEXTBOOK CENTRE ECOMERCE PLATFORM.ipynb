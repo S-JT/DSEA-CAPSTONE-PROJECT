#LETS OBSERVE THE DATA

SELECT * 
FROM tbc_scraper_data.tbc_discounts;

DESC tbc_discounts;

SELECT `product.name`
FROM tbc_discounts;

SELECT `product.price(KES)`
FROM tbc_discounts;

SELECT `previous.price(KES)`
FROM tbc_discounts;

SELECT `%discount`
FROM tbc_discounts;

#2. checking highest discount rates
SELECT `product.name`, `%discount`
FROM tbc_discounts;

# ranking these percentage discounts and looking at highest prices  
SELECT MAX(`%discount`), MAX(`product.price(KES)`)
FROM tbc_discounts;
# the maximum discounts on the website is currently at 50%  
#highest product price is KES 234,990

SELECT *
FROM tbc_discounts
WHERE `%discount` = 50;
# The item 'Dinosaur adventures NPP' has the highest percentage discount listed

SELECT *
FROM tbc_discounts
WHERE `product.price(KES)` = 234990;
#The item with the highest price is 'Asus ROG Flow GZ301....
#lets look at the item with the least cost

SELECT MIN(`product.price(KES)`)
FROM tbc_discounts;
#The minimum product price with a discount is KES 200
# lets have a look at what item this is

SELECT *
FROM tbc_discounts
WHERE `product.price(KES)` = 200;
# The product with the minimum price is 'Dinosaur adventures NPP'

# lets do a comparison of the percentage discounts versus product prices
SELECT *
FROM tbc_discounts
ORDER BY `%discount` DESC;
#the least percentage discount is 1% ('Asus VivoBook X1400 i7-1165G7 8GB 512GB')

# producta versus their percentage discounts
SELECT `product.name`, `%discount`
FROM tbc_discounts
ORDER BY 2 DESC;










